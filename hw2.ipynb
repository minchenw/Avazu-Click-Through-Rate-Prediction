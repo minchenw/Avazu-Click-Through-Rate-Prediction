{
 "cells": [
  {
   "cell_type": "markdown",
   "metadata": {
    "deletable": false,
    "editable": false,
    "nbgrader": {
     "checksum": "5c6360403d7c651183520c08603fcf38",
     "grade": false,
     "grade_id": "cell-7bb7f8506dfae415",
     "locked": true,
     "schema_version": 1,
     "solution": false
    }
   },
   "source": [
    "# Homework 2\n",
    "**Instructions:**\n",
    "- Submit your code to github by the deadline.\n",
    "- DO NOT change paths (-3 points).\n",
    "- DO NOT submit data to github (-2 points)."
   ]
  },
  {
   "cell_type": "code",
   "execution_count": 1,
   "metadata": {
    "ExecuteTime": {
     "end_time": "2019-02-06T01:41:53.697358Z",
     "start_time": "2019-02-06T01:41:53.310259Z"
    },
    "deletable": false,
    "editable": false,
    "nbgrader": {
     "checksum": "faa7d57db15637b9b55b67f9808b36b7",
     "grade": false,
     "grade_id": "cell-963eb775c60d3928",
     "locked": true,
     "schema_version": 1,
     "solution": false
    }
   },
   "outputs": [],
   "source": [
    "import numpy as np\n",
    "import pandas as pd"
   ]
  },
  {
   "cell_type": "markdown",
   "metadata": {
    "deletable": false,
    "editable": false,
    "nbgrader": {
     "checksum": "bbea648a50a11bf826876c2901f4240b",
     "grade": false,
     "grade_id": "cell-4c6cc62f82ecc43c",
     "locked": true,
     "schema_version": 1,
     "solution": false
    }
   },
   "source": [
    "## Problem 1: log loss\n",
    "**(a)** You have a classification problem with 3 classes: \"cat\", \"dog\", \"bird\". For your test observation is a \"dog\". Your model give you the following prediction for that observation (0.1, 0.5, 0.4). What is the accuracy? What is the log loss?\n",
    "\n",
    "**(b)** Suppose that you are submitting to a Kaggle competition. You are solving a binary classification task being evaluated by log loss metric. You suspect train and test target distributions are different, you submit a constant predition of 0.3 and to the public LB and get a score of 1.01. Mean of target variable in train is 0.44. What is the mean of target variable in public part of test data? Explain how you derive the results.\n",
    "\n",
    "**(c)** You have a set of images that are tagged with labels. Each image may be tagged with more than one label. You have a total of 4 labels. Here is the soft prediction for one of your test images (0.1, 0.9, 0.8, 0.3). What is the hard prediction if you are using a threshold of 0.7? What is the loss if your real label is (0, 1, 0, 0)?"
   ]
  },
  {
   "cell_type": "code",
   "execution_count": 2,
   "metadata": {
    "ExecuteTime": {
     "end_time": "2019-02-06T01:41:54.439519Z",
     "start_time": "2019-02-06T01:41:54.433986Z"
    },
    "deletable": false,
    "nbgrader": {
     "checksum": "91eea88516dccaaa8c2d447f398ae79e",
     "grade": true,
     "grade_id": "cell-c82df83e145eadb0",
     "locked": false,
     "points": 1,
     "schema_version": 1,
     "solution": true
    }
   },
   "outputs": [
    {
     "name": "stdout",
     "output_type": "stream",
     "text": [
      "The accuracy is 1\n",
      "The log loss is 0.693\n"
     ]
    }
   ],
   "source": [
    "# YOUR CODE HERE\n",
    "# (a)\n",
    "obs = [0, 1, 0]\n",
    "pred = [0.1, 0.5, 0.4]\n",
    "tup = []\n",
    "for i in range(len(obs)):\n",
    "    tup.append((obs[i], pred[i]))\n",
    "\n",
    "if pred.index(max(pred)) == obs.index(1):\n",
    "    print('The accuracy is 1')\n",
    "else:\n",
    "    print('The accuracy is 0')\n",
    "\n",
    "logloss = -sum([pair[0]*np.log(pair[1]) for pair in tup])\n",
    "print('The log loss is %.3f'%logloss)"
   ]
  },
  {
   "cell_type": "markdown",
   "metadata": {
    "deletable": false,
    "nbgrader": {
     "checksum": "2244343e72ff6bce546993f3fef1aac5",
     "grade": true,
     "grade_id": "cell-a2638ff2cc953f08",
     "locked": false,
     "points": 2,
     "schema_version": 1,
     "solution": true
    }
   },
   "source": [
    "YOUR ANSWER HERE\n",
    "\n",
    "(b)\n",
    "\n",
    "$LogLoss = - \\frac{1}{N} \\sum\\limits^N_{i=1}[y_i \\cdot log(\\hat{y_i}) + (1-y_i) \\cdot log(1-\\hat{y_i}) ]$\n",
    "\n",
    "$1.01= - \\frac{1}{N} \\sum\\limits^N_{i=1}[y_i \\cdot log(0.3) + (1-y_i) \\cdot log(1-0.3) ]$\n",
    "\n",
    "Supporse the number of 0 is $N_0$ and the number of 1 is $N_1$\n",
    "\n",
    "$1.01= - \\frac{N_1 log0.3 + N_0 log0.7}{N_1 + N_0}$\n",
    "\n",
    "$ N_0 = - \\frac{log0.3+1.01}{log0.7+1.01}N_1$\n",
    "\n",
    "$ N_0+N_1 = \\frac{log0.7-log0.3}{log0.7+1.01}N_1$\n",
    "\n",
    "$\\bar{y} = \\frac{N1}{N_1 + N_0} = \\frac{log0.7+1.01}{log0.7-log0.3} = 0.77 $"
   ]
  },
  {
   "cell_type": "code",
   "execution_count": 3,
   "metadata": {
    "ExecuteTime": {
     "end_time": "2019-02-06T01:42:34.254714Z",
     "start_time": "2019-02-06T01:42:34.250037Z"
    },
    "deletable": false,
    "nbgrader": {
     "checksum": "b3f0e633f014a2ebb5801c768891daa1",
     "grade": true,
     "grade_id": "cell-d9101ca9ed47f098",
     "locked": false,
     "points": 1,
     "schema_version": 1,
     "solution": true
    }
   },
   "outputs": [
    {
     "name": "stdout",
     "output_type": "stream",
     "text": [
      "The soft prediction log loss is 2.177\n"
     ]
    }
   ],
   "source": [
    "# YOUR CODE HERE\n",
    "# (c)\n",
    "obs = [0, 1, 0, 0]\n",
    "pred = [0.1, 0.9, 0.8, 0.3]\n",
    "tup = []\n",
    "for i in range(len(obs)):\n",
    "    tup.append((obs[i], pred[i]))\n",
    "\n",
    "logloss = -sum([pair[0]*np.log(pair[1])+(1-pair[0])*np.log(1-pair[1]) for pair in tup])\n",
    "print('The soft prediction log loss is %.3f'%logloss)"
   ]
  },
  {
   "cell_type": "markdown",
   "metadata": {
    "deletable": false,
    "nbgrader": {
     "checksum": "8404ebb8ee9ac4a536059d9e0c6eda94",
     "grade": true,
     "grade_id": "cell-76e91efe673f771b",
     "locked": false,
     "points": 1,
     "schema_version": 1,
     "solution": true
    }
   },
   "source": [
    "YOUR ANSWER HERE\n",
    "\n",
    "If we use a threshold of 0.7, the hard prediction is [0, 1, 1, 0]"
   ]
  },
  {
   "cell_type": "markdown",
   "metadata": {
    "deletable": false,
    "editable": false,
    "nbgrader": {
     "checksum": "ab665ee9f0504368b7cb36d7ca41be20",
     "grade": false,
     "grade_id": "cell-9aed1b87140d15c7",
     "locked": true,
     "schema_version": 1,
     "solution": false
    }
   },
   "source": [
    "## Problem 2: AUC\n",
    "Compute AUC score by hand with the formula explained in class for the following dataset."
   ]
  },
  {
   "cell_type": "code",
   "execution_count": 4,
   "metadata": {
    "ExecuteTime": {
     "end_time": "2019-02-06T01:42:35.227852Z",
     "start_time": "2019-02-06T01:42:35.205835Z"
    },
    "deletable": false,
    "editable": false,
    "nbgrader": {
     "checksum": "7c0e0d0db32cc22cded8f253620c101c",
     "grade": false,
     "grade_id": "cell-d54a5c5492c74c18",
     "locked": true,
     "schema_version": 1,
     "solution": false
    }
   },
   "outputs": [
    {
     "data": {
      "text/html": [
       "<div>\n",
       "<style scoped>\n",
       "    .dataframe tbody tr th:only-of-type {\n",
       "        vertical-align: middle;\n",
       "    }\n",
       "\n",
       "    .dataframe tbody tr th {\n",
       "        vertical-align: top;\n",
       "    }\n",
       "\n",
       "    .dataframe thead th {\n",
       "        text-align: right;\n",
       "    }\n",
       "</style>\n",
       "<table border=\"1\" class=\"dataframe\">\n",
       "  <thead>\n",
       "    <tr style=\"text-align: right;\">\n",
       "      <th></th>\n",
       "      <th>prediction</th>\n",
       "      <th>y</th>\n",
       "    </tr>\n",
       "  </thead>\n",
       "  <tbody>\n",
       "    <tr>\n",
       "      <th>0</th>\n",
       "      <td>0.10</td>\n",
       "      <td>1</td>\n",
       "    </tr>\n",
       "    <tr>\n",
       "      <th>1</th>\n",
       "      <td>0.50</td>\n",
       "      <td>0</td>\n",
       "    </tr>\n",
       "    <tr>\n",
       "      <th>2</th>\n",
       "      <td>0.95</td>\n",
       "      <td>1</td>\n",
       "    </tr>\n",
       "    <tr>\n",
       "      <th>3</th>\n",
       "      <td>0.99</td>\n",
       "      <td>1</td>\n",
       "    </tr>\n",
       "    <tr>\n",
       "      <th>4</th>\n",
       "      <td>0.80</td>\n",
       "      <td>1</td>\n",
       "    </tr>\n",
       "    <tr>\n",
       "      <th>5</th>\n",
       "      <td>0.40</td>\n",
       "      <td>1</td>\n",
       "    </tr>\n",
       "    <tr>\n",
       "      <th>6</th>\n",
       "      <td>0.03</td>\n",
       "      <td>0</td>\n",
       "    </tr>\n",
       "    <tr>\n",
       "      <th>7</th>\n",
       "      <td>0.44</td>\n",
       "      <td>0</td>\n",
       "    </tr>\n",
       "    <tr>\n",
       "      <th>8</th>\n",
       "      <td>0.20</td>\n",
       "      <td>0</td>\n",
       "    </tr>\n",
       "  </tbody>\n",
       "</table>\n",
       "</div>"
      ],
      "text/plain": [
       "   prediction  y\n",
       "0        0.10  1\n",
       "1        0.50  0\n",
       "2        0.95  1\n",
       "3        0.99  1\n",
       "4        0.80  1\n",
       "5        0.40  1\n",
       "6        0.03  0\n",
       "7        0.44  0\n",
       "8        0.20  0"
      ]
     },
     "execution_count": 4,
     "metadata": {},
     "output_type": "execute_result"
    }
   ],
   "source": [
    "d = pd.DataFrame({\n",
    "        'prediction': [0.1, 0.5, 0.95, 0.99, 0.8, 0.4, 0.03, 0.44, 0.2],\n",
    "        'y': [1, 0, 1, 1, 1, 1, 0, 0, 0]})\n",
    "d"
   ]
  },
  {
   "cell_type": "markdown",
   "metadata": {
    "deletable": false,
    "editable": false,
    "nbgrader": {
     "checksum": "d2cfa48c353b5a795097092af3a66433",
     "grade": false,
     "grade_id": "cell-e2d5af5c0b163de9",
     "locked": true,
     "schema_version": 1,
     "solution": false
    }
   },
   "source": [
    "AUC is the probability a randomly-chosen positive example is ranked more highly than a randomly-chosen negative example. It can be computed as the ratio of\n",
    "\n",
    "$$1 - \\frac{\\text{number of pairs example wrongly ordered }}{\\text{number of pairs (positive, negative)}}$$"
   ]
  },
  {
   "cell_type": "code",
   "execution_count": 5,
   "metadata": {
    "ExecuteTime": {
     "end_time": "2019-02-06T01:42:38.655980Z",
     "start_time": "2019-02-06T01:42:38.642976Z"
    },
    "deletable": false,
    "nbgrader": {
     "checksum": "32a1838d9cfd84e0120023e1a787793c",
     "grade": true,
     "grade_id": "cell-b5c4e063540eebfb",
     "locked": false,
     "points": 3,
     "schema_version": 1,
     "solution": true
    }
   },
   "outputs": [
    {
     "name": "stdout",
     "output_type": "stream",
     "text": [
      "The auc is 0.750\n"
     ]
    }
   ],
   "source": [
    "# YOUR CODE HERE\n",
    "d = d.sort_values(['prediction']).reset_index().drop(['index'],axis=1)\n",
    "pair_num = len(d[d['y']==0])*len(d[d['y']==1])\n",
    "w_num = 0\n",
    "for i in range(len(d['y'])):\n",
    "    if d['y'][i] == 1:\n",
    "        for j in range(i, len(d['y'])):\n",
    "            if d['y'][j] == 0:\n",
    "                w_num += 1\n",
    "    \n",
    "auc = 1-w_num/pair_num\n",
    "print('The auc is %.3f' %auc)"
   ]
  },
  {
   "cell_type": "markdown",
   "metadata": {
    "deletable": false,
    "editable": false,
    "nbgrader": {
     "checksum": "5cc1b1bbaf5bf0763dbfdd72c0a500f2",
     "grade": false,
     "grade_id": "cell-cc56ff567f83c54c",
     "locked": true,
     "schema_version": 1,
     "solution": false
    }
   },
   "source": [
    "## Problem 3: Regularized mean (target) encoding for Avazu competition\n",
    "\n",
    "For this problem you will implement a version of regularized mean encoding. We will be using the data on this Kaggle [compettion](https://www.kaggle.com/c/avazu-ctr-prediction).  \n",
    "\n",
    "**Instructions:**\n",
    "- Split data (training) into training and validation. Take the last week (7 days) of training set as validation.\n",
    "- Implement regularized mean encoding for the training set using pandas.\n",
    "- Implement mean encoding for the validation set"
   ]
  },
  {
   "cell_type": "code",
   "execution_count": 6,
   "metadata": {
    "ExecuteTime": {
     "end_time": "2019-02-06T01:42:40.892850Z",
     "start_time": "2019-02-06T01:42:39.910647Z"
    },
    "deletable": false,
    "editable": false,
    "nbgrader": {
     "checksum": "98c1c32735a923591ccc8354da222f26",
     "grade": false,
     "grade_id": "cell-6714619fcc6c6243",
     "locked": true,
     "schema_version": 1,
     "solution": false
    }
   },
   "outputs": [],
   "source": [
    "## Split train and validation \n",
    "# get sample data first\n",
    "path = \"avazu/\"\n",
    "!head -100000 $path/train > $path/train_sample.csv\n",
    "!head -100000 $path/test > $path/test_sample.csv\n",
    "data = pd.read_csv(path + \"train_sample.csv\")\n",
    "test = pd.read_csv(path + \"test_sample.csv\")"
   ]
  },
  {
   "cell_type": "code",
   "execution_count": 7,
   "metadata": {
    "ExecuteTime": {
     "end_time": "2019-02-06T01:42:40.988037Z",
     "start_time": "2019-02-06T01:42:40.895167Z"
    },
    "deletable": false,
    "editable": false,
    "nbgrader": {
     "checksum": "283db1f0a18a247feb2d9101de4df5dc",
     "grade": false,
     "grade_id": "cell-3247c5546454354b",
     "locked": true,
     "schema_version": 1,
     "solution": false
    }
   },
   "outputs": [],
   "source": [
    "def split_based_hour(data):\n",
    "    \"\"\" Split data based on column hour.\n",
    "    \n",
    "    Use 20% of the date for validation.\n",
    "    Inputs:\n",
    "       data: dataframe from avazu\n",
    "    Returns:\n",
    "       train:\n",
    "       val: 20% of the largest values of column \"hour\".\n",
    "    \"\"\"\n",
    "    N = int(0.8*len(data))\n",
    "    data = data.sort_values(by=\"hour\")\n",
    "    train = data[:N].copy()\n",
    "    val = data[N:].copy()\n",
    "    return train.reset_index(), val.reset_index()\n",
    "train, val = split_based_hour(data)"
   ]
  },
  {
   "cell_type": "markdown",
   "metadata": {
    "deletable": false,
    "editable": false,
    "nbgrader": {
     "checksum": "160febfee5ae9e860499d532ea6c707b",
     "grade": false,
     "grade_id": "cell-452970eca3e65752",
     "locked": true,
     "schema_version": 1,
     "solution": false
    }
   },
   "source": [
    "### Regularized mean encoding \n",
    "Here is how you do mean encoding without regularization."
   ]
  },
  {
   "cell_type": "code",
   "execution_count": 8,
   "metadata": {
    "ExecuteTime": {
     "end_time": "2019-02-06T01:42:41.704892Z",
     "start_time": "2019-02-06T01:42:41.685295Z"
    },
    "deletable": false,
    "editable": false,
    "nbgrader": {
     "checksum": "cfcd19e7cc09803027236f34319a5938",
     "grade": false,
     "grade_id": "cell-77c4b82107ebcc48",
     "locked": true,
     "schema_version": 1,
     "solution": false
    }
   },
   "outputs": [
    {
     "data": {
      "text/plain": [
       "device_type\n",
       "0    0.224277\n",
       "1    0.176116\n",
       "4    0.069777\n",
       "5    0.083333\n",
       "Name: click, dtype: float64"
      ]
     },
     "execution_count": 8,
     "metadata": {},
     "output_type": "execute_result"
    }
   ],
   "source": [
    "# Calculate a mapping: {device_type: click_mean}\n",
    "mean_device_type = train.groupby('device_type').click.mean()\n",
    "mean_device_type"
   ]
  },
  {
   "cell_type": "code",
   "execution_count": 9,
   "metadata": {
    "ExecuteTime": {
     "end_time": "2019-02-06T01:42:41.868596Z",
     "start_time": "2019-02-06T01:42:41.862135Z"
    },
    "deletable": false,
    "editable": false,
    "nbgrader": {
     "checksum": "33a2b7ea42f7250ca63e72662f7c1f80",
     "grade": false,
     "grade_id": "cell-ed1cc1dcf31b6592",
     "locked": true,
     "schema_version": 1,
     "solution": false
    }
   },
   "outputs": [
    {
     "data": {
      "text/plain": [
       "0.17477718471480894"
      ]
     },
     "execution_count": 9,
     "metadata": {},
     "output_type": "execute_result"
    }
   ],
   "source": [
    "# This is the global click mean\n",
    "global_mean = train.click.mean()\n",
    "global_mean"
   ]
  },
  {
   "cell_type": "code",
   "execution_count": 10,
   "metadata": {
    "ExecuteTime": {
     "end_time": "2019-02-06T01:42:42.042606Z",
     "start_time": "2019-02-06T01:42:42.035866Z"
    },
    "deletable": false,
    "editable": false,
    "nbgrader": {
     "checksum": "e6da1f98a3600a0e0c8d0d3f5a0b6e92",
     "grade": false,
     "grade_id": "cell-b18e26077498e310",
     "locked": true,
     "schema_version": 1,
     "solution": false
    }
   },
   "outputs": [],
   "source": [
    "train[\"device_type_mean_enc\"] = train[\"device_type\"].map(mean_device_type)\n",
    "val[\"device_type_mean_enc\"] = val[\"device_type\"].map(mean_device_type)"
   ]
  },
  {
   "cell_type": "code",
   "execution_count": 11,
   "metadata": {
    "ExecuteTime": {
     "end_time": "2019-02-06T01:42:42.447204Z",
     "start_time": "2019-02-06T01:42:42.440829Z"
    },
    "deletable": false,
    "editable": false,
    "nbgrader": {
     "checksum": "6c7bbb2f5b95852108d0a52d3955c184",
     "grade": false,
     "grade_id": "cell-3738c83f6ed83558",
     "locked": true,
     "schema_version": 1,
     "solution": false
    }
   },
   "outputs": [],
   "source": [
    "train[\"device_type_mean_enc\"].fillna(global_mean, inplace=True)\n",
    "val[\"device_type_mean_enc\"].fillna(global_mean, inplace=True)"
   ]
  },
  {
   "cell_type": "code",
   "execution_count": 12,
   "metadata": {
    "ExecuteTime": {
     "end_time": "2019-02-06T01:42:42.691605Z",
     "start_time": "2019-02-06T01:42:42.685354Z"
    },
    "deletable": false,
    "editable": false,
    "nbgrader": {
     "checksum": "5027fe3d503aed56fb0b1936334d6901",
     "grade": false,
     "grade_id": "cell-a02b93e0e675fcfc",
     "locked": true,
     "schema_version": 1,
     "solution": false
    }
   },
   "outputs": [
    {
     "name": "stdout",
     "output_type": "stream",
     "text": [
      "0.0530389229998215\n"
     ]
    }
   ],
   "source": [
    "# Print correlation\n",
    "encoded_feature = val[\"device_type_mean_enc\"].values\n",
    "print(np.corrcoef(val[\"click\"].values, encoded_feature)[0][1])"
   ]
  },
  {
   "cell_type": "markdown",
   "metadata": {
    "deletable": false,
    "editable": false,
    "nbgrader": {
     "checksum": "53f9c475060eb35dde22ef1fb8815531",
     "grade": false,
     "grade_id": "cell-bcfd0241d1bbc117",
     "locked": true,
     "schema_version": 1,
     "solution": false
    }
   },
   "source": [
    "To do mean encoding with K-fold regularization you do the following:\n",
    "\n",
    "* Run a 5-fold split on train data where `mean_device_type` is computed on 4/5 of the data and the encoding is computed on the other 1/5.\n",
    "* To compute mean encoding on the validation data use the code similar to encoding without regularization. That is compute on all the training data and apply to the validation set."
   ]
  },
  {
   "cell_type": "code",
   "execution_count": 13,
   "metadata": {
    "ExecuteTime": {
     "end_time": "2019-02-06T01:42:43.504936Z",
     "start_time": "2019-02-06T01:42:43.049944Z"
    },
    "deletable": false,
    "nbgrader": {
     "checksum": "7a342519715706a0152213f7bd22ccc1",
     "grade": false,
     "grade_id": "cell-775e47f5b0194cbe",
     "locked": false,
     "schema_version": 1,
     "solution": true
    }
   },
   "outputs": [],
   "source": [
    "from sklearn.model_selection import KFold\n",
    "\n",
    "def reg_target_encoding(train, col = \"device_type\", splits=5):\n",
    "    \"\"\" Computes regularize mean encoding.\n",
    "    Inputs:\n",
    "       train: training dataframe\n",
    "       \n",
    "    \"\"\"\n",
    "    # YOUR CODE HERE\n",
    "    kf = KFold(n_splits=splits)\n",
    "    # train.drop('device_type_mean_enc', axis=1, inplace=True)\n",
    "    i = 0\n",
    "    new_col = col+'_mean_enc'\n",
    "    for tra_index, val_index in kf.split(train):\n",
    "        mean_device_type = train.loc[tra_index].groupby(col).click.mean()\n",
    "        global_mean = train.loc[tra_index].click.mean()\n",
    "        val = train.loc[val_index].copy()\n",
    "        val[new_col] = val[col].map(mean_device_type)\n",
    "        val[new_col].fillna(global_mean, inplace=True)\n",
    "        if i == 0:\n",
    "            new_train = val\n",
    "        else:\n",
    "            new_train = new_train.append(val)\n",
    "        i += 1\n",
    "    train[new_col] = new_train[new_col]"
   ]
  },
  {
   "cell_type": "code",
   "execution_count": 14,
   "metadata": {
    "ExecuteTime": {
     "end_time": "2019-02-06T01:42:43.850447Z",
     "start_time": "2019-02-06T01:42:43.507407Z"
    },
    "deletable": false,
    "editable": false,
    "nbgrader": {
     "checksum": "06db617336e33141cf8db2cbf18cb2a6",
     "grade": true,
     "grade_id": "cell-b4683b910e8c7ca9",
     "locked": true,
     "points": 5,
     "schema_version": 1,
     "solution": false
    }
   },
   "outputs": [],
   "source": [
    "reg_target_encoding(train) \n",
    "encoded_feature = train[\"device_type_mean_enc\"].values\n",
    "corr = np.corrcoef(train[\"click\"].values, encoded_feature)[0][1]\n",
    "assert(np.around(corr, decimals=4) == 0.0551)"
   ]
  },
  {
   "cell_type": "code",
   "execution_count": 15,
   "metadata": {
    "ExecuteTime": {
     "end_time": "2019-02-06T01:42:43.905503Z",
     "start_time": "2019-02-06T01:42:43.900792Z"
    },
    "deletable": false,
    "nbgrader": {
     "checksum": "36df06691ec8fc0c9bc155537f014d91",
     "grade": false,
     "grade_id": "cell-72af369cd137b75b",
     "locked": false,
     "schema_version": 1,
     "solution": true
    }
   },
   "outputs": [],
   "source": [
    "def mean_encoding_test(test, train, col = \"device_type\"):\n",
    "    \"\"\" Computes target enconding for test data.\n",
    "    \n",
    "    This is similar to how we do validation\n",
    "    \"\"\"\n",
    "    # YOUR CODE HERE\n",
    "    mean_device_type = train.groupby(col).click.mean()\n",
    "    global_mean = train.click.mean()\n",
    "    new_col = col+'_mean_enc'\n",
    "    train[new_col] = train[col].map(mean_device_type)\n",
    "    train[new_col].fillna(global_mean, inplace=True)\n",
    "    test[new_col] = test[col].map(mean_device_type)\n",
    "    test[new_col].fillna(global_mean, inplace=True)"
   ]
  },
  {
   "cell_type": "code",
   "execution_count": 16,
   "metadata": {
    "ExecuteTime": {
     "end_time": "2019-02-06T01:42:44.151747Z",
     "start_time": "2019-02-06T01:42:44.137424Z"
    },
    "deletable": false,
    "editable": false,
    "nbgrader": {
     "checksum": "cb997cc70af17c110f9f92aaab3acdc7",
     "grade": true,
     "grade_id": "cell-ec2e728bbd5de8b3",
     "locked": true,
     "points": 2,
     "schema_version": 1,
     "solution": false
    }
   },
   "outputs": [],
   "source": [
    "mean_encoding_test(test, train) \n",
    "encoded_feature_mean = test[\"device_type_mean_enc\"].values.mean()\n",
    "assert(np.around(encoded_feature_mean, decimals=4) == 0.177)"
   ]
  },
  {
   "cell_type": "markdown",
   "metadata": {
    "deletable": false,
    "editable": false,
    "nbgrader": {
     "checksum": "43b47a071f2f20a0196abb6d814687e2",
     "grade": false,
     "grade_id": "cell-eb09ee7786ad32c2",
     "locked": true,
     "schema_version": 1,
     "solution": false
    }
   },
   "source": [
    "## Problem 4: Implement other features and fit a model (10 points)\n",
    "* Implement a few more features, include:\n",
    "   * day of the week and hour\n",
    "   * mean encoding of some other features (at least two)\n",
    "   * use plots and `value_counts()` to understand the data\n",
    "\n",
    "* Fit a random forest (to the whole dataset)\n",
    "   * Do hyperparameter tunning using your validation set\n",
    "   * Report test and train log loss"
   ]
  },
  {
   "cell_type": "code",
   "execution_count": 17,
   "metadata": {
    "ExecuteTime": {
     "end_time": "2019-02-06T01:42:48.181756Z",
     "start_time": "2019-02-06T01:42:48.178243Z"
    },
    "deletable": false,
    "editable": false,
    "nbgrader": {
     "checksum": "4b2ee7b245a73446da29cd2cb69fd8e2",
     "grade": false,
     "grade_id": "cell-e5b525e48f90cc37",
     "locked": true,
     "schema_version": 1,
     "solution": false
    }
   },
   "outputs": [],
   "source": [
    "def load_data():\n",
    "    path = \"avazu/\"\n",
    "    data = pd.read_csv(path + \"train\")\n",
    "    test = pd.read_csv(path + \"test\")\n",
    "    return data, test"
   ]
  },
  {
   "cell_type": "markdown",
   "metadata": {},
   "source": [
    "## 4.0 Load Data"
   ]
  },
  {
   "cell_type": "code",
   "execution_count": 18,
   "metadata": {
    "ExecuteTime": {
     "end_time": "2019-02-06T01:47:58.341084Z",
     "start_time": "2019-02-06T01:42:49.513641Z"
    }
   },
   "outputs": [],
   "source": [
    "path = \"avazu/\"\n",
    "type1 = {'id': np.uint32, 'click': np.uint8, 'hour': np.uint32, 'C1': np.uint32, 'banner_pos': np.uint32,\n",
    "         'site_id': 'category', 'site_domain': 'category', 'site_category': 'category', 'app_id': 'category',\n",
    "         'app_domain': 'category', 'app_category': 'category', 'device_id': 'category',\n",
    "         'device_ip': 'category', 'device_model': 'category', 'device_type': np.uint8, 'device_conn_type': np.uint8,\n",
    "         'C14': np.uint16, 'C15': np.uint16, 'C16': np.uint16, 'C17': np.uint16, 'C18': np.uint16, 'C19': np.uint16,\n",
    "         'C20': np.uint16, 'C21': np.uint16}\n",
    "type2 = {'id': np.uint32, 'hour': np.uint32, 'C1': np.uint32, 'banner_pos': np.uint32,\n",
    "         'site_id': 'category', 'site_domain': 'category', 'site_category': 'category', 'app_id': 'category',\n",
    "         'app_domain': 'category', 'app_category': 'category', 'device_id': 'category',\n",
    "         'device_ip': 'category', 'device_model': 'category', 'device_type': np.uint8, 'device_conn_type': np.uint8,\n",
    "         'C14': np.uint16, 'C15': np.uint16, 'C16': np.uint16, 'C17': np.uint16, 'C18': np.uint16, 'C19': np.uint16,\n",
    "         'C20': np.uint16, 'C21': np.uint16}\n",
    "\n",
    "data = pd.read_csv(path + \"train\", usecols=type1.keys(), dtype=type1)\n",
    "test = pd.read_csv(path + \"test\", usecols=type2.keys(), dtype=type2)"
   ]
  },
  {
   "cell_type": "markdown",
   "metadata": {},
   "source": [
    "## 4.1 Initial data exploration "
   ]
  },
  {
   "cell_type": "code",
   "execution_count": 19,
   "metadata": {
    "ExecuteTime": {
     "end_time": "2019-02-06T01:50:45.649229Z",
     "start_time": "2019-02-06T01:47:58.349213Z"
    },
    "deletable": false,
    "nbgrader": {
     "checksum": "7bdab79fc12b9c4594f6b541b00a051d",
     "grade": true,
     "grade_id": "cell-9ed772e2cb29616a",
     "locked": false,
     "points": 10,
     "schema_version": 1,
     "solution": true
    }
   },
   "outputs": [],
   "source": [
    "# YOUR CODE HERE\n",
    "# day of the week and hour\n",
    "def get_time_features(df):\n",
    "    df['hour'] = pd.to_datetime(df['hour'].astype(str), format='%y%m%d%H')\n",
    "    df['dow'] = df['hour'].dt.weekday\n",
    "    df['click_hour'] = df['hour'].dt.hour\n",
    "    return df\n",
    "\n",
    "data = get_time_features(data)\n",
    "test = get_time_features(test)"
   ]
  },
  {
   "cell_type": "code",
   "execution_count": 20,
   "metadata": {
    "ExecuteTime": {
     "end_time": "2019-02-06T01:50:46.005148Z",
     "start_time": "2019-02-06T01:50:45.653234Z"
    }
   },
   "outputs": [
    {
     "name": "stdout",
     "output_type": "stream",
     "text": [
      "24\n",
      "7\n"
     ]
    }
   ],
   "source": [
    "print(data.click_hour.nunique())\n",
    "print(data.dow.nunique())"
   ]
  },
  {
   "cell_type": "code",
   "execution_count": 21,
   "metadata": {
    "ExecuteTime": {
     "end_time": "2019-02-06T01:50:54.613189Z",
     "start_time": "2019-02-06T01:50:46.010334Z"
    }
   },
   "outputs": [
    {
     "data": {
      "text/plain": [
       "<matplotlib.axes._subplots.AxesSubplot at 0x1a69d29780>"
      ]
     },
     "execution_count": 21,
     "metadata": {},
     "output_type": "execute_result"
    },
    {
     "data": {
      "image/png": "[encoded data removed]",
      "text/plain": [
       "<Figure size 432x288 with 1 Axes>"
      ]
     },
     "metadata": {},
     "output_type": "display_data"
    }
   ],
   "source": [
    "%matplotlib inline\n",
    "data[data.click==1].groupby('dow').click.value_counts().plot(kind='bar')"
   ]
  },
  {
   "cell_type": "markdown",
   "metadata": {},
   "source": [
    "From the plot, we could find the most click happens on Monday, then Tuesday and Wednesday."
   ]
  },
  {
   "cell_type": "code",
   "execution_count": 22,
   "metadata": {
    "ExecuteTime": {
     "end_time": "2019-02-06T01:51:23.074304Z",
     "start_time": "2019-02-06T01:50:54.615098Z"
    }
   },
   "outputs": [
    {
     "data": {
      "text/plain": [
       "id                  40239110\n",
       "click                      2\n",
       "hour                     240\n",
       "C1                         7\n",
       "banner_pos                 7\n",
       "site_id                 4737\n",
       "site_domain             7745\n",
       "site_category             26\n",
       "app_id                  8552\n",
       "app_domain               559\n",
       "app_category              36\n",
       "device_id            2686408\n",
       "device_ip            6729486\n",
       "device_model            8251\n",
       "device_type                5\n",
       "device_conn_type           4\n",
       "C14                     2626\n",
       "C15                        8\n",
       "C16                        9\n",
       "C17                      435\n",
       "C18                        4\n",
       "C19                       68\n",
       "C20                      172\n",
       "C21                       60\n",
       "dow                        7\n",
       "click_hour                24\n",
       "dtype: int64"
      ]
     },
     "execution_count": 22,
     "metadata": {},
     "output_type": "execute_result"
    }
   ],
   "source": [
    "data.nunique()"
   ]
  },
  {
   "cell_type": "markdown",
   "metadata": {},
   "source": [
    "Some features have too many categories, which won't help in modeling. We also drop these columns."
   ]
  },
  {
   "cell_type": "code",
   "execution_count": 23,
   "metadata": {
    "ExecuteTime": {
     "end_time": "2019-02-06T01:51:26.292046Z",
     "start_time": "2019-02-06T01:51:23.085074Z"
    }
   },
   "outputs": [],
   "source": [
    "# drop the features with too many categories\n",
    "drop_list = ['id','site_id','site_domain', 'app_id','device_id', 'device_ip', 'device_model','C14','C17', 'C20']\n",
    "data.drop(drop_list, axis=1, inplace=True)\n",
    "test.drop(drop_list, axis=1, inplace=True)"
   ]
  },
  {
   "cell_type": "code",
   "execution_count": 24,
   "metadata": {
    "ExecuteTime": {
     "end_time": "2019-02-06T01:51:37.495511Z",
     "start_time": "2019-02-06T01:51:26.296228Z"
    }
   },
   "outputs": [],
   "source": [
    "# train, validation split\n",
    "def split_based_hour2(data):\n",
    "    \"\"\" Split data based on column hour.\n",
    "    \n",
    "    Use 10% of the date for validation.\n",
    "    Inputs:\n",
    "       data: dataframe from avazu\n",
    "    Returns:\n",
    "       train:\n",
    "       val: 10% of the largest values of column \"hour\".\n",
    "    \"\"\"\n",
    "    N = int(0.9*len(data))\n",
    "    data = data.sort_values(by=\"hour\")\n",
    "    train = data[:N].copy()\n",
    "    val = data[N:].copy()\n",
    "    return train.reset_index(), val.reset_index()\n",
    "\n",
    "train, val = split_based_hour2(data)"
   ]
  },
  {
   "cell_type": "code",
   "execution_count": 25,
   "metadata": {
    "ExecuteTime": {
     "end_time": "2019-02-06T01:51:40.089713Z",
     "start_time": "2019-02-06T01:51:37.501704Z"
    }
   },
   "outputs": [],
   "source": [
    "train.drop(train.columns[[0]],axis=1,inplace=True)\n",
    "val.drop(val.columns[[0]],axis=1,inplace=True)"
   ]
  },
  {
   "cell_type": "code",
   "execution_count": 26,
   "metadata": {
    "ExecuteTime": {
     "end_time": "2019-02-06T01:51:44.275503Z",
     "start_time": "2019-02-06T01:51:40.094486Z"
    }
   },
   "outputs": [
    {
     "data": {
      "text/plain": [
       "click                 2\n",
       "hour                218\n",
       "C1                    7\n",
       "banner_pos            7\n",
       "site_category        26\n",
       "app_domain          548\n",
       "app_category         36\n",
       "device_type           5\n",
       "device_conn_type      4\n",
       "C15                   8\n",
       "C16                   9\n",
       "C18                   4\n",
       "C19                  66\n",
       "C21                  55\n",
       "dow                   7\n",
       "click_hour           24\n",
       "dtype: int64"
      ]
     },
     "execution_count": 26,
     "metadata": {},
     "output_type": "execute_result"
    }
   ],
   "source": [
    "train.nunique()"
   ]
  },
  {
   "cell_type": "markdown",
   "metadata": {},
   "source": [
    "## 4.2 Feature engineering"
   ]
  },
  {
   "cell_type": "markdown",
   "metadata": {},
   "source": [
    "### Mean encoding"
   ]
  },
  {
   "cell_type": "code",
   "execution_count": 27,
   "metadata": {
    "ExecuteTime": {
     "end_time": "2019-02-06T01:51:48.564278Z",
     "start_time": "2019-02-06T01:51:44.278395Z"
    }
   },
   "outputs": [],
   "source": [
    "# do device_type mean encoding as above\n",
    "mean_encoding_test(val, train) \n",
    "mean_encoding_test(test, train) "
   ]
  },
  {
   "cell_type": "code",
   "execution_count": 28,
   "metadata": {
    "ExecuteTime": {
     "end_time": "2019-02-06T02:12:08.828547Z",
     "start_time": "2019-02-06T01:51:48.567293Z"
    }
   },
   "outputs": [],
   "source": [
    "# mean encoding of some other features (at least two)\n",
    "# app_category encoding\n",
    "mean_encoding_test(val, train, col='app_category') \n",
    "mean_encoding_test(test, train, col='app_category') "
   ]
  },
  {
   "cell_type": "code",
   "execution_count": 29,
   "metadata": {
    "ExecuteTime": {
     "end_time": "2019-02-06T02:31:31.142993Z",
     "start_time": "2019-02-06T02:12:08.831626Z"
    }
   },
   "outputs": [],
   "source": [
    "# site_category encoding\n",
    "mean_encoding_test(val, train, col='site_category') \n",
    "mean_encoding_test(test, train, col='site_category') "
   ]
  },
  {
   "cell_type": "code",
   "execution_count": 30,
   "metadata": {
    "ExecuteTime": {
     "end_time": "2019-02-06T02:31:39.463181Z",
     "start_time": "2019-02-06T02:31:31.150203Z"
    }
   },
   "outputs": [],
   "source": [
    "# banner_pos encoding\n",
    "mean_encoding_test(val, train, col='banner_pos') \n",
    "mean_encoding_test(test, train, col='banner_pos') "
   ]
  },
  {
   "cell_type": "code",
   "execution_count": 31,
   "metadata": {
    "ExecuteTime": {
     "end_time": "2019-02-06T02:31:45.944743Z",
     "start_time": "2019-02-06T02:31:39.465597Z"
    }
   },
   "outputs": [],
   "source": [
    "# drop the original features\n",
    "drop_list = ['device_type', 'app_category','site_category', 'banner_pos']\n",
    "train.drop(drop_list, axis=1, inplace=True)\n",
    "val.drop(drop_list, axis=1, inplace=True)\n",
    "test.drop(drop_list, axis=1, inplace=True)"
   ]
  },
  {
   "cell_type": "code",
   "execution_count": 32,
   "metadata": {
    "ExecuteTime": {
     "end_time": "2019-02-06T02:31:45.978826Z",
     "start_time": "2019-02-06T02:31:45.950240Z"
    }
   },
   "outputs": [
    {
     "data": {
      "text/html": [
       "<div>\n",
       "<style scoped>\n",
       "    .dataframe tbody tr th:only-of-type {\n",
       "        vertical-align: middle;\n",
       "    }\n",
       "\n",
       "    .dataframe tbody tr th {\n",
       "        vertical-align: top;\n",
       "    }\n",
       "\n",
       "    .dataframe thead th {\n",
       "        text-align: right;\n",
       "    }\n",
       "</style>\n",
       "<table border=\"1\" class=\"dataframe\">\n",
       "  <thead>\n",
       "    <tr style=\"text-align: right;\">\n",
       "      <th></th>\n",
       "      <th>click</th>\n",
       "      <th>hour</th>\n",
       "      <th>C1</th>\n",
       "      <th>app_domain</th>\n",
       "      <th>device_conn_type</th>\n",
       "      <th>C15</th>\n",
       "      <th>C16</th>\n",
       "      <th>C18</th>\n",
       "      <th>C19</th>\n",
       "      <th>C21</th>\n",
       "      <th>dow</th>\n",
       "      <th>click_hour</th>\n",
       "      <th>device_type_mean_enc</th>\n",
       "      <th>app_category_mean_enc</th>\n",
       "      <th>site_category_mean_enc</th>\n",
       "      <th>banner_pos_mean_enc</th>\n",
       "    </tr>\n",
       "  </thead>\n",
       "  <tbody>\n",
       "    <tr>\n",
       "      <th>0</th>\n",
       "      <td>0</td>\n",
       "      <td>2014-10-21</td>\n",
       "      <td>1005</td>\n",
       "      <td>7801e8d9</td>\n",
       "      <td>2</td>\n",
       "      <td>320</td>\n",
       "      <td>50</td>\n",
       "      <td>0</td>\n",
       "      <td>35</td>\n",
       "      <td>79</td>\n",
       "      <td>1</td>\n",
       "      <td>0</td>\n",
       "      <td>0.169527</td>\n",
       "      <td>0.198884</td>\n",
       "      <td>0.208541</td>\n",
       "      <td>0.164918</td>\n",
       "    </tr>\n",
       "    <tr>\n",
       "      <th>1</th>\n",
       "      <td>0</td>\n",
       "      <td>2014-10-21</td>\n",
       "      <td>1010</td>\n",
       "      <td>7801e8d9</td>\n",
       "      <td>0</td>\n",
       "      <td>320</td>\n",
       "      <td>50</td>\n",
       "      <td>3</td>\n",
       "      <td>35</td>\n",
       "      <td>117</td>\n",
       "      <td>1</td>\n",
       "      <td>0</td>\n",
       "      <td>0.093963</td>\n",
       "      <td>0.109662</td>\n",
       "      <td>0.127580</td>\n",
       "      <td>0.182319</td>\n",
       "    </tr>\n",
       "    <tr>\n",
       "      <th>2</th>\n",
       "      <td>0</td>\n",
       "      <td>2014-10-21</td>\n",
       "      <td>1005</td>\n",
       "      <td>7801e8d9</td>\n",
       "      <td>0</td>\n",
       "      <td>320</td>\n",
       "      <td>50</td>\n",
       "      <td>0</td>\n",
       "      <td>35</td>\n",
       "      <td>79</td>\n",
       "      <td>1</td>\n",
       "      <td>0</td>\n",
       "      <td>0.169527</td>\n",
       "      <td>0.198884</td>\n",
       "      <td>0.208541</td>\n",
       "      <td>0.164918</td>\n",
       "    </tr>\n",
       "    <tr>\n",
       "      <th>3</th>\n",
       "      <td>0</td>\n",
       "      <td>2014-10-21</td>\n",
       "      <td>1005</td>\n",
       "      <td>2347f47a</td>\n",
       "      <td>0</td>\n",
       "      <td>320</td>\n",
       "      <td>50</td>\n",
       "      <td>0</td>\n",
       "      <td>681</td>\n",
       "      <td>101</td>\n",
       "      <td>1</td>\n",
       "      <td>0</td>\n",
       "      <td>0.169527</td>\n",
       "      <td>0.109662</td>\n",
       "      <td>0.127580</td>\n",
       "      <td>0.182319</td>\n",
       "    </tr>\n",
       "    <tr>\n",
       "      <th>4</th>\n",
       "      <td>1</td>\n",
       "      <td>2014-10-21</td>\n",
       "      <td>1005</td>\n",
       "      <td>7801e8d9</td>\n",
       "      <td>0</td>\n",
       "      <td>320</td>\n",
       "      <td>50</td>\n",
       "      <td>0</td>\n",
       "      <td>431</td>\n",
       "      <td>117</td>\n",
       "      <td>1</td>\n",
       "      <td>0</td>\n",
       "      <td>0.169527</td>\n",
       "      <td>0.198884</td>\n",
       "      <td>0.281221</td>\n",
       "      <td>0.164918</td>\n",
       "    </tr>\n",
       "  </tbody>\n",
       "</table>\n",
       "</div>"
      ],
      "text/plain": [
       "   click       hour    C1 app_domain  device_conn_type  C15  C16  C18  C19  \\\n",
       "0      0 2014-10-21  1005   7801e8d9                 2  320   50    0   35   \n",
       "1      0 2014-10-21  1010   7801e8d9                 0  320   50    3   35   \n",
       "2      0 2014-10-21  1005   7801e8d9                 0  320   50    0   35   \n",
       "3      0 2014-10-21  1005   2347f47a                 0  320   50    0  681   \n",
       "4      1 2014-10-21  1005   7801e8d9                 0  320   50    0  431   \n",
       "\n",
       "   C21  dow  click_hour  device_type_mean_enc  app_category_mean_enc  \\\n",
       "0   79    1           0              0.169527               0.198884   \n",
       "1  117    1           0              0.093963               0.109662   \n",
       "2   79    1           0              0.169527               0.198884   \n",
       "3  101    1           0              0.169527               0.109662   \n",
       "4  117    1           0              0.169527               0.198884   \n",
       "\n",
       "   site_category_mean_enc  banner_pos_mean_enc  \n",
       "0                0.208541             0.164918  \n",
       "1                0.127580             0.182319  \n",
       "2                0.208541             0.164918  \n",
       "3                0.127580             0.182319  \n",
       "4                0.281221             0.164918  "
      ]
     },
     "execution_count": 32,
     "metadata": {},
     "output_type": "execute_result"
    }
   ],
   "source": [
    "train.head()"
   ]
  },
  {
   "cell_type": "code",
   "execution_count": 33,
   "metadata": {
    "ExecuteTime": {
     "end_time": "2019-02-06T02:31:46.047573Z",
     "start_time": "2019-02-06T02:31:45.981587Z"
    }
   },
   "outputs": [
    {
     "data": {
      "text/plain": [
       "3    4042897\n",
       "Name: dow, dtype: int64"
      ]
     },
     "execution_count": 33,
     "metadata": {},
     "output_type": "execute_result"
    }
   ],
   "source": [
    "val['dow'].value_counts()"
   ]
  },
  {
   "cell_type": "code",
   "execution_count": 34,
   "metadata": {
    "ExecuteTime": {
     "end_time": "2019-02-06T02:31:46.127998Z",
     "start_time": "2019-02-06T02:31:46.052093Z"
    }
   },
   "outputs": [
    {
     "data": {
      "text/plain": [
       "4    4577464\n",
       "Name: dow, dtype: int64"
      ]
     },
     "execution_count": 34,
     "metadata": {},
     "output_type": "execute_result"
    }
   ],
   "source": [
    "test['dow'].value_counts()"
   ]
  },
  {
   "cell_type": "markdown",
   "metadata": {
    "ExecuteTime": {
     "end_time": "2019-02-05T21:02:12.473187Z",
     "start_time": "2019-02-05T21:02:12.443760Z"
    }
   },
   "source": [
    "Notice there is only 1 value in `dow` column in `val` and `test`, we choose to drop this column, as well as `hour`"
   ]
  },
  {
   "cell_type": "code",
   "execution_count": 35,
   "metadata": {
    "ExecuteTime": {
     "end_time": "2019-02-06T02:31:48.552333Z",
     "start_time": "2019-02-06T02:31:46.130777Z"
    }
   },
   "outputs": [],
   "source": [
    "train.drop(['hour', 'dow'], axis=1, inplace=True)\n",
    "val.drop(['hour', 'dow'], axis=1, inplace=True)\n",
    "test.drop(['hour', 'dow'], axis=1, inplace=True)"
   ]
  },
  {
   "cell_type": "markdown",
   "metadata": {},
   "source": [
    "### one-hot encoding"
   ]
  },
  {
   "cell_type": "code",
   "execution_count": 36,
   "metadata": {
    "ExecuteTime": {
     "end_time": "2019-02-06T02:31:52.370667Z",
     "start_time": "2019-02-06T02:31:48.554953Z"
    }
   },
   "outputs": [
    {
     "data": {
      "text/plain": [
       "click                       2\n",
       "C1                          7\n",
       "app_domain                548\n",
       "device_conn_type            4\n",
       "C15                         8\n",
       "C16                         9\n",
       "C18                         4\n",
       "C19                        66\n",
       "C21                        55\n",
       "click_hour                 24\n",
       "device_type_mean_enc        5\n",
       "app_category_mean_enc      28\n",
       "site_category_mean_enc     22\n",
       "banner_pos_mean_enc         7\n",
       "dtype: int64"
      ]
     },
     "execution_count": 36,
     "metadata": {},
     "output_type": "execute_result"
    }
   ],
   "source": [
    "train.nunique()"
   ]
  },
  {
   "cell_type": "code",
   "execution_count": 37,
   "metadata": {
    "ExecuteTime": {
     "end_time": "2019-02-06T02:31:53.027970Z",
     "start_time": "2019-02-06T02:31:52.373089Z"
    }
   },
   "outputs": [
    {
     "data": {
      "text/plain": [
       "click                       2\n",
       "C1                          7\n",
       "app_domain                187\n",
       "device_conn_type            4\n",
       "C15                         8\n",
       "C16                         9\n",
       "C18                         4\n",
       "C19                        48\n",
       "C21                        40\n",
       "click_hour                 23\n",
       "device_type_mean_enc        4\n",
       "app_category_mean_enc      26\n",
       "site_category_mean_enc     22\n",
       "banner_pos_mean_enc         7\n",
       "dtype: int64"
      ]
     },
     "execution_count": 37,
     "metadata": {},
     "output_type": "execute_result"
    }
   ],
   "source": [
    "val.nunique()"
   ]
  },
  {
   "cell_type": "code",
   "execution_count": 38,
   "metadata": {
    "ExecuteTime": {
     "end_time": "2019-02-06T02:31:53.844692Z",
     "start_time": "2019-02-06T02:31:53.033086Z"
    }
   },
   "outputs": [
    {
     "data": {
      "text/plain": [
       "C1                          7\n",
       "app_domain                201\n",
       "device_conn_type            4\n",
       "C15                         8\n",
       "C16                         9\n",
       "C18                         4\n",
       "C19                        47\n",
       "C21                        39\n",
       "click_hour                 24\n",
       "device_type_mean_enc        4\n",
       "app_category_mean_enc      26\n",
       "site_category_mean_enc     22\n",
       "banner_pos_mean_enc         6\n",
       "dtype: int64"
      ]
     },
     "execution_count": 38,
     "metadata": {},
     "output_type": "execute_result"
    }
   ],
   "source": [
    "test.nunique()"
   ]
  },
  {
   "cell_type": "code",
   "execution_count": 39,
   "metadata": {
    "ExecuteTime": {
     "end_time": "2019-02-06T02:31:54.404949Z",
     "start_time": "2019-02-06T02:31:53.847472Z"
    }
   },
   "outputs": [
    {
     "data": {
      "text/plain": [
       "1005    33326069\n",
       "1002     2047224\n",
       "1010      861051\n",
       "1012      103691\n",
       "1007       33059\n",
       "1001        9248\n",
       "1008        5728\n",
       "Name: C1, dtype: int64"
      ]
     },
     "execution_count": 39,
     "metadata": {},
     "output_type": "execute_result"
    }
   ],
   "source": [
    "train['C1'].value_counts()"
   ]
  },
  {
   "cell_type": "code",
   "execution_count": 40,
   "metadata": {
    "ExecuteTime": {
     "end_time": "2019-02-06T02:31:54.878192Z",
     "start_time": "2019-02-06T02:31:54.407266Z"
    }
   },
   "outputs": [
    {
     "data": {
      "text/plain": [
       "0    31494952\n",
       "2     2829057\n",
       "3     2021697\n",
       "5       40364\n",
       "Name: device_conn_type, dtype: int64"
      ]
     },
     "execution_count": 40,
     "metadata": {},
     "output_type": "execute_result"
    }
   ],
   "source": [
    "train['device_conn_type'].value_counts()"
   ]
  },
  {
   "cell_type": "code",
   "execution_count": 41,
   "metadata": {
    "ExecuteTime": {
     "end_time": "2019-02-06T02:31:55.394103Z",
     "start_time": "2019-02-06T02:31:54.881485Z"
    }
   },
   "outputs": [
    {
     "data": {
      "text/plain": [
       "0    15112756\n",
       "3    12278647\n",
       "2     6337909\n",
       "1     2656758\n",
       "Name: C18, dtype: int64"
      ]
     },
     "execution_count": 41,
     "metadata": {},
     "output_type": "execute_result"
    }
   ],
   "source": [
    "train['C18'].value_counts()"
   ]
  },
  {
   "cell_type": "markdown",
   "metadata": {},
   "source": [
    "By looking through these variables, we could found `C1`, `C18` and `device_conn_type`  have same categories in `train`, `test` and `val` dataset. Also, the number of category is not too large. Then, we could do one-hot encoding on these three features."
   ]
  },
  {
   "cell_type": "code",
   "execution_count": 42,
   "metadata": {
    "ExecuteTime": {
     "end_time": "2019-02-06T02:32:02.077122Z",
     "start_time": "2019-02-06T02:31:55.397008Z"
    }
   },
   "outputs": [],
   "source": [
    "c1_Dummies = pd.get_dummies(train['C1'], prefix= 'C1', drop_first=True)\n",
    "train_new = pd.concat([train, c1_Dummies], axis=1)\n",
    "c1_Dummies = pd.get_dummies(val['C1'], prefix= 'C1', drop_first=True)\n",
    "val_new = pd.concat([val, c1_Dummies], axis=1)\n",
    "c1_Dummies = pd.get_dummies(test['C1'], prefix= 'C1', drop_first=True)\n",
    "test_new = pd.concat([test, c1_Dummies], axis=1)"
   ]
  },
  {
   "cell_type": "code",
   "execution_count": 43,
   "metadata": {
    "ExecuteTime": {
     "end_time": "2019-02-06T02:32:12.142065Z",
     "start_time": "2019-02-06T02:32:02.088735Z"
    }
   },
   "outputs": [],
   "source": [
    "dc_Dummies = pd.get_dummies(train['device_conn_type'], prefix= 'device_conn_type', drop_first=True)\n",
    "train_new = pd.concat([train_new, dc_Dummies], axis=1)\n",
    "dc_Dummies = pd.get_dummies(val['device_conn_type'], prefix= 'device_conn_type', drop_first=True)\n",
    "val_new = pd.concat([val_new, dc_Dummies], axis=1)\n",
    "dc_Dummies = pd.get_dummies(test['device_conn_type'], prefix= 'device_conn_type', drop_first=True)\n",
    "test_new = pd.concat([test_new, dc_Dummies], axis=1)"
   ]
  },
  {
   "cell_type": "code",
   "execution_count": 44,
   "metadata": {
    "ExecuteTime": {
     "end_time": "2019-02-06T02:32:17.749359Z",
     "start_time": "2019-02-06T02:32:12.147743Z"
    }
   },
   "outputs": [],
   "source": [
    "c18_Dummies = pd.get_dummies(train['device_conn_type'], prefix= 'device_conn_type', drop_first=True)\n",
    "train_new = pd.concat([train_new, c18_Dummies], axis=1)\n",
    "c18_Dummies = pd.get_dummies(val['device_conn_type'], prefix= 'device_conn_type', drop_first=True)\n",
    "val_new = pd.concat([val_new, c18_Dummies], axis=1)\n",
    "c18_Dummies = pd.get_dummies(test['device_conn_type'], prefix= 'device_conn_type', drop_first=True)\n",
    "test_new = pd.concat([test_new, c18_Dummies], axis=1)"
   ]
  },
  {
   "cell_type": "code",
   "execution_count": 45,
   "metadata": {
    "ExecuteTime": {
     "end_time": "2019-02-06T02:32:21.181687Z",
     "start_time": "2019-02-06T02:32:17.752854Z"
    }
   },
   "outputs": [],
   "source": [
    "train_new.drop(['device_conn_type','C1','C18'], axis=1, inplace=True)\n",
    "val_new.drop(['device_conn_type','C1','C18'], axis=1, inplace=True)\n",
    "test_new.drop(['device_conn_type','C1','C18'], axis=1, inplace=True)"
   ]
  },
  {
   "cell_type": "code",
   "execution_count": 46,
   "metadata": {
    "ExecuteTime": {
     "end_time": "2019-02-06T02:32:21.227087Z",
     "start_time": "2019-02-06T02:32:21.185430Z"
    }
   },
   "outputs": [
    {
     "data": {
      "text/html": [
       "<div>\n",
       "<style scoped>\n",
       "    .dataframe tbody tr th:only-of-type {\n",
       "        vertical-align: middle;\n",
       "    }\n",
       "\n",
       "    .dataframe tbody tr th {\n",
       "        vertical-align: top;\n",
       "    }\n",
       "\n",
       "    .dataframe thead th {\n",
       "        text-align: right;\n",
       "    }\n",
       "</style>\n",
       "<table border=\"1\" class=\"dataframe\">\n",
       "  <thead>\n",
       "    <tr style=\"text-align: right;\">\n",
       "      <th></th>\n",
       "      <th>click</th>\n",
       "      <th>app_domain</th>\n",
       "      <th>C15</th>\n",
       "      <th>C16</th>\n",
       "      <th>C19</th>\n",
       "      <th>C21</th>\n",
       "      <th>click_hour</th>\n",
       "      <th>device_type_mean_enc</th>\n",
       "      <th>app_category_mean_enc</th>\n",
       "      <th>site_category_mean_enc</th>\n",
       "      <th>...</th>\n",
       "      <th>C1_1007</th>\n",
       "      <th>C1_1008</th>\n",
       "      <th>C1_1010</th>\n",
       "      <th>C1_1012</th>\n",
       "      <th>device_conn_type_2</th>\n",
       "      <th>device_conn_type_3</th>\n",
       "      <th>device_conn_type_5</th>\n",
       "      <th>device_conn_type_2</th>\n",
       "      <th>device_conn_type_3</th>\n",
       "      <th>device_conn_type_5</th>\n",
       "    </tr>\n",
       "  </thead>\n",
       "  <tbody>\n",
       "    <tr>\n",
       "      <th>0</th>\n",
       "      <td>0</td>\n",
       "      <td>7801e8d9</td>\n",
       "      <td>320</td>\n",
       "      <td>50</td>\n",
       "      <td>35</td>\n",
       "      <td>79</td>\n",
       "      <td>0</td>\n",
       "      <td>0.169527</td>\n",
       "      <td>0.198884</td>\n",
       "      <td>0.208541</td>\n",
       "      <td>...</td>\n",
       "      <td>0</td>\n",
       "      <td>0</td>\n",
       "      <td>0</td>\n",
       "      <td>0</td>\n",
       "      <td>1</td>\n",
       "      <td>0</td>\n",
       "      <td>0</td>\n",
       "      <td>1</td>\n",
       "      <td>0</td>\n",
       "      <td>0</td>\n",
       "    </tr>\n",
       "    <tr>\n",
       "      <th>1</th>\n",
       "      <td>0</td>\n",
       "      <td>7801e8d9</td>\n",
       "      <td>320</td>\n",
       "      <td>50</td>\n",
       "      <td>35</td>\n",
       "      <td>117</td>\n",
       "      <td>0</td>\n",
       "      <td>0.093963</td>\n",
       "      <td>0.109662</td>\n",
       "      <td>0.127580</td>\n",
       "      <td>...</td>\n",
       "      <td>0</td>\n",
       "      <td>0</td>\n",
       "      <td>1</td>\n",
       "      <td>0</td>\n",
       "      <td>0</td>\n",
       "      <td>0</td>\n",
       "      <td>0</td>\n",
       "      <td>0</td>\n",
       "      <td>0</td>\n",
       "      <td>0</td>\n",
       "    </tr>\n",
       "    <tr>\n",
       "      <th>2</th>\n",
       "      <td>0</td>\n",
       "      <td>7801e8d9</td>\n",
       "      <td>320</td>\n",
       "      <td>50</td>\n",
       "      <td>35</td>\n",
       "      <td>79</td>\n",
       "      <td>0</td>\n",
       "      <td>0.169527</td>\n",
       "      <td>0.198884</td>\n",
       "      <td>0.208541</td>\n",
       "      <td>...</td>\n",
       "      <td>0</td>\n",
       "      <td>0</td>\n",
       "      <td>0</td>\n",
       "      <td>0</td>\n",
       "      <td>0</td>\n",
       "      <td>0</td>\n",
       "      <td>0</td>\n",
       "      <td>0</td>\n",
       "      <td>0</td>\n",
       "      <td>0</td>\n",
       "    </tr>\n",
       "    <tr>\n",
       "      <th>3</th>\n",
       "      <td>0</td>\n",
       "      <td>2347f47a</td>\n",
       "      <td>320</td>\n",
       "      <td>50</td>\n",
       "      <td>681</td>\n",
       "      <td>101</td>\n",
       "      <td>0</td>\n",
       "      <td>0.169527</td>\n",
       "      <td>0.109662</td>\n",
       "      <td>0.127580</td>\n",
       "      <td>...</td>\n",
       "      <td>0</td>\n",
       "      <td>0</td>\n",
       "      <td>0</td>\n",
       "      <td>0</td>\n",
       "      <td>0</td>\n",
       "      <td>0</td>\n",
       "      <td>0</td>\n",
       "      <td>0</td>\n",
       "      <td>0</td>\n",
       "      <td>0</td>\n",
       "    </tr>\n",
       "    <tr>\n",
       "      <th>4</th>\n",
       "      <td>1</td>\n",
       "      <td>7801e8d9</td>\n",
       "      <td>320</td>\n",
       "      <td>50</td>\n",
       "      <td>431</td>\n",
       "      <td>117</td>\n",
       "      <td>0</td>\n",
       "      <td>0.169527</td>\n",
       "      <td>0.198884</td>\n",
       "      <td>0.281221</td>\n",
       "      <td>...</td>\n",
       "      <td>0</td>\n",
       "      <td>0</td>\n",
       "      <td>0</td>\n",
       "      <td>0</td>\n",
       "      <td>0</td>\n",
       "      <td>0</td>\n",
       "      <td>0</td>\n",
       "      <td>0</td>\n",
       "      <td>0</td>\n",
       "      <td>0</td>\n",
       "    </tr>\n",
       "  </tbody>\n",
       "</table>\n",
       "<p>5 rows × 23 columns</p>\n",
       "</div>"
      ],
      "text/plain": [
       "   click app_domain  C15  C16  C19  C21  click_hour  device_type_mean_enc  \\\n",
       "0      0   7801e8d9  320   50   35   79           0              0.169527   \n",
       "1      0   7801e8d9  320   50   35  117           0              0.093963   \n",
       "2      0   7801e8d9  320   50   35   79           0              0.169527   \n",
       "3      0   2347f47a  320   50  681  101           0              0.169527   \n",
       "4      1   7801e8d9  320   50  431  117           0              0.169527   \n",
       "\n",
       "   app_category_mean_enc  site_category_mean_enc         ...          C1_1007  \\\n",
       "0               0.198884                0.208541         ...                0   \n",
       "1               0.109662                0.127580         ...                0   \n",
       "2               0.198884                0.208541         ...                0   \n",
       "3               0.109662                0.127580         ...                0   \n",
       "4               0.198884                0.281221         ...                0   \n",
       "\n",
       "   C1_1008  C1_1010  C1_1012  device_conn_type_2  device_conn_type_3  \\\n",
       "0        0        0        0                   1                   0   \n",
       "1        0        1        0                   0                   0   \n",
       "2        0        0        0                   0                   0   \n",
       "3        0        0        0                   0                   0   \n",
       "4        0        0        0                   0                   0   \n",
       "\n",
       "   device_conn_type_5  device_conn_type_2  device_conn_type_3  \\\n",
       "0                   0                   1                   0   \n",
       "1                   0                   0                   0   \n",
       "2                   0                   0                   0   \n",
       "3                   0                   0                   0   \n",
       "4                   0                   0                   0   \n",
       "\n",
       "   device_conn_type_5  \n",
       "0                   0  \n",
       "1                   0  \n",
       "2                   0  \n",
       "3                   0  \n",
       "4                   0  \n",
       "\n",
       "[5 rows x 23 columns]"
      ]
     },
     "execution_count": 46,
     "metadata": {},
     "output_type": "execute_result"
    }
   ],
   "source": [
    "train_new.head()"
   ]
  },
  {
   "cell_type": "markdown",
   "metadata": {},
   "source": [
    "### Label encoding"
   ]
  },
  {
   "cell_type": "markdown",
   "metadata": {},
   "source": [
    "For the rest categorical data, we could do label encoding on it.  "
   ]
  },
  {
   "cell_type": "code",
   "execution_count": 47,
   "metadata": {
    "ExecuteTime": {
     "end_time": "2019-02-06T02:32:23.435884Z",
     "start_time": "2019-02-06T02:32:21.230033Z"
    }
   },
   "outputs": [],
   "source": [
    "y_train = train_new['click']\n",
    "X_train = train_new.drop(['click'], axis=1)\n",
    "y_val = val_new['click']\n",
    "X_val = val_new.drop(['click'], axis=1)"
   ]
  },
  {
   "cell_type": "markdown",
   "metadata": {},
   "source": [
    "To ensure the new category in `val` and `test` could also be encoded, we should get a full datarame which conclude all different categories in each dataset."
   ]
  },
  {
   "cell_type": "code",
   "execution_count": 48,
   "metadata": {
    "ExecuteTime": {
     "end_time": "2019-02-06T02:35:11.766073Z",
     "start_time": "2019-02-06T02:32:23.439501Z"
    }
   },
   "outputs": [
    {
     "name": "stderr",
     "output_type": "stream",
     "text": [
      "/Users/minchenwang/anaconda3/lib/python3.6/site-packages/ipykernel_launcher.py:8: SettingWithCopyWarning: \n",
      "A value is trying to be set on a copy of a slice from a DataFrame.\n",
      "Try using .loc[row_indexer,col_indexer] = value instead\n",
      "\n",
      "See the caveats in the documentation: http://pandas.pydata.org/pandas-docs/stable/indexing.html#indexing-view-versus-copy\n",
      "  \n",
      "/Users/minchenwang/anaconda3/lib/python3.6/site-packages/ipykernel_launcher.py:9: SettingWithCopyWarning: \n",
      "A value is trying to be set on a copy of a slice from a DataFrame.\n",
      "Try using .loc[row_indexer,col_indexer] = value instead\n",
      "\n",
      "See the caveats in the documentation: http://pandas.pydata.org/pandas-docs/stable/indexing.html#indexing-view-versus-copy\n",
      "  if __name__ == '__main__':\n"
     ]
    }
   ],
   "source": [
    "from sklearn.preprocessing import LabelEncoder\n",
    "col_category = list(X_train.columns)[:6]\n",
    "df = X_train.append(X_val)\n",
    "df = df.append(test_new)\n",
    "for col in col_category :\n",
    "    encoder = LabelEncoder()\n",
    "    encoder.fit(df[col])\n",
    "    X_train[col] = encoder.transform(X_train[col])\n",
    "    X_val[col] =encoder.transform(X_val[col])\n",
    "    test_new[col] =encoder.transform(test_new[col])"
   ]
  },
  {
   "cell_type": "code",
   "execution_count": 49,
   "metadata": {
    "ExecuteTime": {
     "end_time": "2019-02-06T02:35:11.795513Z",
     "start_time": "2019-02-06T02:35:11.770034Z"
    }
   },
   "outputs": [
    {
     "data": {
      "text/html": [
       "<div>\n",
       "<style scoped>\n",
       "    .dataframe tbody tr th:only-of-type {\n",
       "        vertical-align: middle;\n",
       "    }\n",
       "\n",
       "    .dataframe tbody tr th {\n",
       "        vertical-align: top;\n",
       "    }\n",
       "\n",
       "    .dataframe thead th {\n",
       "        text-align: right;\n",
       "    }\n",
       "</style>\n",
       "<table border=\"1\" class=\"dataframe\">\n",
       "  <thead>\n",
       "    <tr style=\"text-align: right;\">\n",
       "      <th></th>\n",
       "      <th>app_domain</th>\n",
       "      <th>C15</th>\n",
       "      <th>C16</th>\n",
       "      <th>C19</th>\n",
       "      <th>C21</th>\n",
       "      <th>click_hour</th>\n",
       "      <th>device_type_mean_enc</th>\n",
       "      <th>app_category_mean_enc</th>\n",
       "      <th>site_category_mean_enc</th>\n",
       "      <th>banner_pos_mean_enc</th>\n",
       "      <th>...</th>\n",
       "      <th>C1_1007</th>\n",
       "      <th>C1_1008</th>\n",
       "      <th>C1_1010</th>\n",
       "      <th>C1_1012</th>\n",
       "      <th>device_conn_type_2</th>\n",
       "      <th>device_conn_type_3</th>\n",
       "      <th>device_conn_type_5</th>\n",
       "      <th>device_conn_type_2</th>\n",
       "      <th>device_conn_type_3</th>\n",
       "      <th>device_conn_type_5</th>\n",
       "    </tr>\n",
       "  </thead>\n",
       "  <tbody>\n",
       "    <tr>\n",
       "      <th>0</th>\n",
       "      <td>265</td>\n",
       "      <td>3</td>\n",
       "      <td>2</td>\n",
       "      <td>14</td>\n",
       "      <td>6</td>\n",
       "      <td>1</td>\n",
       "      <td>0.169527</td>\n",
       "      <td>0.198884</td>\n",
       "      <td>0.179566</td>\n",
       "      <td>0.182319</td>\n",
       "      <td>...</td>\n",
       "      <td>0</td>\n",
       "      <td>0</td>\n",
       "      <td>0</td>\n",
       "      <td>0</td>\n",
       "      <td>0</td>\n",
       "      <td>0</td>\n",
       "      <td>0</td>\n",
       "      <td>0</td>\n",
       "      <td>0</td>\n",
       "      <td>0</td>\n",
       "    </tr>\n",
       "    <tr>\n",
       "      <th>1</th>\n",
       "      <td>76</td>\n",
       "      <td>3</td>\n",
       "      <td>2</td>\n",
       "      <td>8</td>\n",
       "      <td>6</td>\n",
       "      <td>1</td>\n",
       "      <td>0.169527</td>\n",
       "      <td>0.229264</td>\n",
       "      <td>0.127580</td>\n",
       "      <td>0.164918</td>\n",
       "      <td>...</td>\n",
       "      <td>0</td>\n",
       "      <td>0</td>\n",
       "      <td>0</td>\n",
       "      <td>0</td>\n",
       "      <td>0</td>\n",
       "      <td>0</td>\n",
       "      <td>0</td>\n",
       "      <td>0</td>\n",
       "      <td>0</td>\n",
       "      <td>0</td>\n",
       "    </tr>\n",
       "    <tr>\n",
       "      <th>2</th>\n",
       "      <td>425</td>\n",
       "      <td>3</td>\n",
       "      <td>2</td>\n",
       "      <td>8</td>\n",
       "      <td>6</td>\n",
       "      <td>1</td>\n",
       "      <td>0.169527</td>\n",
       "      <td>0.095979</td>\n",
       "      <td>0.127580</td>\n",
       "      <td>0.164918</td>\n",
       "      <td>...</td>\n",
       "      <td>0</td>\n",
       "      <td>0</td>\n",
       "      <td>0</td>\n",
       "      <td>0</td>\n",
       "      <td>0</td>\n",
       "      <td>0</td>\n",
       "      <td>0</td>\n",
       "      <td>0</td>\n",
       "      <td>0</td>\n",
       "      <td>0</td>\n",
       "    </tr>\n",
       "    <tr>\n",
       "      <th>3</th>\n",
       "      <td>265</td>\n",
       "      <td>3</td>\n",
       "      <td>2</td>\n",
       "      <td>17</td>\n",
       "      <td>15</td>\n",
       "      <td>1</td>\n",
       "      <td>0.210108</td>\n",
       "      <td>0.198884</td>\n",
       "      <td>0.127580</td>\n",
       "      <td>0.164918</td>\n",
       "      <td>...</td>\n",
       "      <td>0</td>\n",
       "      <td>0</td>\n",
       "      <td>0</td>\n",
       "      <td>0</td>\n",
       "      <td>0</td>\n",
       "      <td>0</td>\n",
       "      <td>0</td>\n",
       "      <td>0</td>\n",
       "      <td>0</td>\n",
       "      <td>0</td>\n",
       "    </tr>\n",
       "    <tr>\n",
       "      <th>4</th>\n",
       "      <td>265</td>\n",
       "      <td>3</td>\n",
       "      <td>2</td>\n",
       "      <td>4</td>\n",
       "      <td>7</td>\n",
       "      <td>1</td>\n",
       "      <td>0.169527</td>\n",
       "      <td>0.198884</td>\n",
       "      <td>0.179566</td>\n",
       "      <td>0.182319</td>\n",
       "      <td>...</td>\n",
       "      <td>0</td>\n",
       "      <td>0</td>\n",
       "      <td>0</td>\n",
       "      <td>0</td>\n",
       "      <td>0</td>\n",
       "      <td>0</td>\n",
       "      <td>0</td>\n",
       "      <td>0</td>\n",
       "      <td>0</td>\n",
       "      <td>0</td>\n",
       "    </tr>\n",
       "  </tbody>\n",
       "</table>\n",
       "<p>5 rows × 22 columns</p>\n",
       "</div>"
      ],
      "text/plain": [
       "   app_domain  C15  C16  C19  C21  click_hour  device_type_mean_enc  \\\n",
       "0         265    3    2   14    6           1              0.169527   \n",
       "1          76    3    2    8    6           1              0.169527   \n",
       "2         425    3    2    8    6           1              0.169527   \n",
       "3         265    3    2   17   15           1              0.210108   \n",
       "4         265    3    2    4    7           1              0.169527   \n",
       "\n",
       "   app_category_mean_enc  site_category_mean_enc  banner_pos_mean_enc  \\\n",
       "0               0.198884                0.179566             0.182319   \n",
       "1               0.229264                0.127580             0.164918   \n",
       "2               0.095979                0.127580             0.164918   \n",
       "3               0.198884                0.127580             0.164918   \n",
       "4               0.198884                0.179566             0.182319   \n",
       "\n",
       "          ...          C1_1007  C1_1008  C1_1010  C1_1012  device_conn_type_2  \\\n",
       "0         ...                0        0        0        0                   0   \n",
       "1         ...                0        0        0        0                   0   \n",
       "2         ...                0        0        0        0                   0   \n",
       "3         ...                0        0        0        0                   0   \n",
       "4         ...                0        0        0        0                   0   \n",
       "\n",
       "   device_conn_type_3  device_conn_type_5  device_conn_type_2  \\\n",
       "0                   0                   0                   0   \n",
       "1                   0                   0                   0   \n",
       "2                   0                   0                   0   \n",
       "3                   0                   0                   0   \n",
       "4                   0                   0                   0   \n",
       "\n",
       "   device_conn_type_3  device_conn_type_5  \n",
       "0                   0                   0  \n",
       "1                   0                   0  \n",
       "2                   0                   0  \n",
       "3                   0                   0  \n",
       "4                   0                   0  \n",
       "\n",
       "[5 rows x 22 columns]"
      ]
     },
     "execution_count": 49,
     "metadata": {},
     "output_type": "execute_result"
    }
   ],
   "source": [
    "X_val.head()"
   ]
  },
  {
   "cell_type": "code",
   "execution_count": 50,
   "metadata": {
    "ExecuteTime": {
     "end_time": "2019-02-06T02:35:12.458706Z",
     "start_time": "2019-02-06T02:35:11.797988Z"
    }
   },
   "outputs": [
    {
     "data": {
      "text/plain": [
       "0    30199732\n",
       "1     6186338\n",
       "Name: click, dtype: int64"
      ]
     },
     "execution_count": 50,
     "metadata": {},
     "output_type": "execute_result"
    }
   ],
   "source": [
    "# let's look at the target variable\n",
    "y_train.value_counts()"
   ]
  },
  {
   "cell_type": "code",
   "execution_count": 51,
   "metadata": {
    "ExecuteTime": {
     "end_time": "2019-02-06T02:35:12.468842Z",
     "start_time": "2019-02-06T02:35:12.462482Z"
    }
   },
   "outputs": [
    {
     "data": {
      "text/plain": [
       "4.881681537607547"
      ]
     },
     "execution_count": 51,
     "metadata": {},
     "output_type": "execute_result"
    }
   ],
   "source": [
    "30199732/6186338"
   ]
  },
  {
   "cell_type": "markdown",
   "metadata": {},
   "source": [
    "The ratio of click vs. no-click in `train` dataset is about 4.88:1. The dataset is imbalanced."
   ]
  },
  {
   "cell_type": "markdown",
   "metadata": {},
   "source": [
    "## 4.3 Fit the model"
   ]
  },
  {
   "cell_type": "code",
   "execution_count": 52,
   "metadata": {
    "ExecuteTime": {
     "end_time": "2019-02-06T02:35:12.609883Z",
     "start_time": "2019-02-06T02:35:12.471269Z"
    }
   },
   "outputs": [
    {
     "name": "stderr",
     "output_type": "stream",
     "text": [
      "/Users/minchenwang/anaconda3/lib/python3.6/site-packages/sklearn/ensemble/weight_boosting.py:29: DeprecationWarning: numpy.core.umath_tests is an internal NumPy module and should not be imported. It will be removed in a future NumPy release.\n",
      "  from numpy.core.umath_tests import inner1d\n"
     ]
    }
   ],
   "source": [
    "from sklearn.ensemble import RandomForestClassifier\n",
    "from sklearn.metrics import log_loss"
   ]
  },
  {
   "cell_type": "markdown",
   "metadata": {},
   "source": [
    "Do the hyperparameter tunning using validation set"
   ]
  },
  {
   "cell_type": "markdown",
   "metadata": {},
   "source": [
    "### Model 1"
   ]
  },
  {
   "cell_type": "code",
   "execution_count": 53,
   "metadata": {
    "ExecuteTime": {
     "end_time": "2019-02-06T02:44:24.625248Z",
     "start_time": "2019-02-06T02:35:12.614698Z"
    }
   },
   "outputs": [
    {
     "name": "stdout",
     "output_type": "stream",
     "text": [
      "building tree 1 of 10building tree 2 of 10building tree 3 of 10\n",
      "building tree 4 of 10\n",
      "\n",
      "\n",
      "building tree 5 of 10\n",
      "building tree 6 of 10\n",
      "building tree 7 of 10\n",
      "building tree 8 of 10\n",
      "building tree 9 of 10\n",
      "building tree 10 of 10\n"
     ]
    },
    {
     "name": "stderr",
     "output_type": "stream",
     "text": [
      "[Parallel(n_jobs=-1)]: Done  10 out of  10 | elapsed:  8.6min finished\n"
     ]
    },
    {
     "data": {
      "text/plain": [
       "RandomForestClassifier(bootstrap=True, class_weight=None, criterion='gini',\n",
       "            max_depth=10, max_features=10, max_leaf_nodes=None,\n",
       "            min_impurity_decrease=0.0, min_impurity_split=None,\n",
       "            min_samples_leaf=1, min_samples_split=2,\n",
       "            min_weight_fraction_leaf=0.0, n_estimators=10, n_jobs=-1,\n",
       "            oob_score=False, random_state=None, verbose=2,\n",
       "            warm_start=False)"
      ]
     },
     "execution_count": 53,
     "metadata": {},
     "output_type": "execute_result"
    }
   ],
   "source": [
    "rf1 = RandomForestClassifier(n_estimators=10, max_depth=10, max_features=10,\n",
    "                            oob_score=False, n_jobs=-1,verbose=2)\n",
    "rf1.fit(X_train, y_train)"
   ]
  },
  {
   "cell_type": "code",
   "execution_count": 54,
   "metadata": {
    "ExecuteTime": {
     "end_time": "2019-02-06T02:45:27.283803Z",
     "start_time": "2019-02-06T02:44:24.635796Z"
    }
   },
   "outputs": [
    {
     "name": "stderr",
     "output_type": "stream",
     "text": [
      "[Parallel(n_jobs=4)]: Done  10 out of  10 | elapsed:   24.5s finished\n",
      "[Parallel(n_jobs=4)]: Done  10 out of  10 | elapsed:    2.1s finished\n"
     ]
    }
   ],
   "source": [
    "y_train_pro_rf1 = rf1.predict_proba(X_train)\n",
    "loss_train_rf1 = log_loss(y_train, y_train_pro_rf1)\n",
    "y_val_pro_rf1 = rf1.predict_proba(X_val)\n",
    "loss_val_rf1 = log_loss(y_val,y_val_pro_rf1)"
   ]
  },
  {
   "cell_type": "code",
   "execution_count": 55,
   "metadata": {
    "ExecuteTime": {
     "end_time": "2019-02-06T02:45:27.308375Z",
     "start_time": "2019-02-06T02:45:27.296105Z"
    }
   },
   "outputs": [
    {
     "name": "stdout",
     "output_type": "stream",
     "text": [
      "Model1: The logloss of the train dataset is 0.417\n",
      "Model1: The logloss of the validation(test) dataset is 0.425\n"
     ]
    }
   ],
   "source": [
    "print('Model1: The logloss of the train dataset is %.3f' %loss_train_rf1)\n",
    "print('Model1: The logloss of the validation(test) dataset is %.3f' %loss_val_rf1)"
   ]
  },
  {
   "cell_type": "markdown",
   "metadata": {},
   "source": [
    "### Model 2"
   ]
  },
  {
   "cell_type": "code",
   "execution_count": 56,
   "metadata": {
    "ExecuteTime": {
     "end_time": "2019-02-06T03:01:47.273801Z",
     "start_time": "2019-02-06T02:45:27.316183Z"
    }
   },
   "outputs": [
    {
     "name": "stdout",
     "output_type": "stream",
     "text": [
      "building tree 1 of 20building tree 2 of 20building tree 3 of 20\n",
      "building tree 4 of 20\n",
      "\n",
      "\n",
      "building tree 5 of 20\n",
      "building tree 6 of 20\n",
      "building tree 7 of 20\n",
      "building tree 8 of 20\n",
      "building tree 9 of 20\n",
      "building tree 10 of 20\n",
      "building tree 11 of 20\n",
      "building tree 12 of 20\n",
      "building tree 13 of 20\n",
      "building tree 14 of 20\n",
      "building tree 15 of 20\n",
      "building tree 16 of 20\n",
      "building tree 17 of 20\n",
      "building tree 18 of 20\n",
      "building tree 19 of 20\n",
      "building tree 20 of 20\n"
     ]
    },
    {
     "name": "stderr",
     "output_type": "stream",
     "text": [
      "[Parallel(n_jobs=-1)]: Done  20 out of  20 | elapsed: 15.9min finished\n"
     ]
    },
    {
     "data": {
      "text/plain": [
       "RandomForestClassifier(bootstrap=True, class_weight=None, criterion='gini',\n",
       "            max_depth=10, max_features=10, max_leaf_nodes=None,\n",
       "            min_impurity_decrease=0.0, min_impurity_split=None,\n",
       "            min_samples_leaf=1, min_samples_split=2,\n",
       "            min_weight_fraction_leaf=0.0, n_estimators=20, n_jobs=-1,\n",
       "            oob_score=False, random_state=None, verbose=2,\n",
       "            warm_start=False)"
      ]
     },
     "execution_count": 56,
     "metadata": {},
     "output_type": "execute_result"
    }
   ],
   "source": [
    "rf2 = RandomForestClassifier(n_estimators=20, max_depth=10, max_features=10,\n",
    "                            oob_score=False, n_jobs=-1,verbose=2)\n",
    "rf2.fit(X_train, y_train)"
   ]
  },
  {
   "cell_type": "code",
   "execution_count": 57,
   "metadata": {
    "ExecuteTime": {
     "end_time": "2019-02-06T03:03:10.408525Z",
     "start_time": "2019-02-06T03:01:47.280184Z"
    }
   },
   "outputs": [
    {
     "name": "stderr",
     "output_type": "stream",
     "text": [
      "[Parallel(n_jobs=4)]: Done  20 out of  20 | elapsed:   44.1s finished\n",
      "[Parallel(n_jobs=4)]: Done  20 out of  20 | elapsed:    4.2s finished\n"
     ]
    }
   ],
   "source": [
    "y_train_pro_rf2 = rf2.predict_proba(X_train)\n",
    "loss_train_rf2 = log_loss(y_train, y_train_pro_rf2)\n",
    "y_val_pro_rf2 = rf2.predict_proba(X_val)\n",
    "loss_val_rf2 = log_loss(y_val,y_val_pro_rf2)"
   ]
  },
  {
   "cell_type": "code",
   "execution_count": 58,
   "metadata": {
    "ExecuteTime": {
     "end_time": "2019-02-06T03:03:10.433742Z",
     "start_time": "2019-02-06T03:03:10.422476Z"
    }
   },
   "outputs": [
    {
     "name": "stdout",
     "output_type": "stream",
     "text": [
      "Model2: The logloss of the train dataset is 0.416\n",
      "Model2: The logloss of the validation(test) dataset is 0.423\n"
     ]
    }
   ],
   "source": [
    "print('Model2: The logloss of the train dataset is %.3f' %loss_train_rf2)\n",
    "print('Model2: The logloss of the validation(test) dataset is %.3f' %loss_val_rf2)"
   ]
  },
  {
   "cell_type": "markdown",
   "metadata": {},
   "source": [
    "### Model 3"
   ]
  },
  {
   "cell_type": "code",
   "execution_count": 60,
   "metadata": {
    "ExecuteTime": {
     "end_time": "2019-02-06T03:29:51.314340Z",
     "start_time": "2019-02-06T03:07:11.653848Z"
    }
   },
   "outputs": [
    {
     "name": "stdout",
     "output_type": "stream",
     "text": [
      "building tree 1 of 20building tree 2 of 20building tree 3 of 20building tree 4 of 20\n",
      "\n",
      "\n",
      "\n",
      "building tree 5 of 20\n",
      "building tree 6 of 20\n",
      "building tree 7 of 20\n",
      "building tree 8 of 20\n",
      "building tree 9 of 20\n",
      "building tree 10 of 20\n",
      "building tree 11 of 20\n",
      "building tree 12 of 20\n",
      "building tree 13 of 20\n",
      "building tree 14 of 20\n",
      "building tree 15 of 20\n",
      "building tree 16 of 20\n",
      "building tree 17 of 20\n",
      "building tree 18 of 20\n",
      "building tree 19 of 20\n",
      "building tree 20 of 20\n"
     ]
    },
    {
     "name": "stderr",
     "output_type": "stream",
     "text": [
      "[Parallel(n_jobs=-1)]: Done  20 out of  20 | elapsed: 22.1min finished\n"
     ]
    },
    {
     "data": {
      "text/plain": [
       "RandomForestClassifier(bootstrap=True, class_weight=None, criterion='gini',\n",
       "            max_depth=15, max_features=15, max_leaf_nodes=None,\n",
       "            min_impurity_decrease=0.0, min_impurity_split=None,\n",
       "            min_samples_leaf=1, min_samples_split=2,\n",
       "            min_weight_fraction_leaf=0.0, n_estimators=20, n_jobs=-1,\n",
       "            oob_score=False, random_state=None, verbose=2,\n",
       "            warm_start=False)"
      ]
     },
     "execution_count": 60,
     "metadata": {},
     "output_type": "execute_result"
    }
   ],
   "source": [
    "rf3 = RandomForestClassifier(n_estimators=20, max_depth=15, max_features=15,\n",
    "                            oob_score=False, n_jobs=-1,verbose=2)\n",
    "rf3.fit(X_train, y_train)"
   ]
  },
  {
   "cell_type": "code",
   "execution_count": 61,
   "metadata": {
    "ExecuteTime": {
     "end_time": "2019-02-06T03:31:15.332137Z",
     "start_time": "2019-02-06T03:29:51.331449Z"
    }
   },
   "outputs": [
    {
     "name": "stderr",
     "output_type": "stream",
     "text": [
      "[Parallel(n_jobs=4)]: Done  20 out of  20 | elapsed:   46.6s finished\n",
      "[Parallel(n_jobs=4)]: Done  20 out of  20 | elapsed:    3.0s finished\n"
     ]
    }
   ],
   "source": [
    "y_train_pro_rf3 = rf3.predict_proba(X_train)\n",
    "loss_train_rf3 = log_loss(y_train, y_train_pro_rf3)\n",
    "y_val_pro_rf3 = rf2.predict_proba(X_val)\n",
    "loss_val_rf3 = log_loss(y_val,y_val_pro_rf3)"
   ]
  },
  {
   "cell_type": "code",
   "execution_count": 62,
   "metadata": {
    "ExecuteTime": {
     "end_time": "2019-02-06T03:31:15.346589Z",
     "start_time": "2019-02-06T03:31:15.337812Z"
    }
   },
   "outputs": [
    {
     "name": "stdout",
     "output_type": "stream",
     "text": [
      "Model3: The logloss of the train dataset is 0.411\n",
      "Model3: The logloss of the validation(test) dataset is 0.423\n"
     ]
    }
   ],
   "source": [
    "print('Model3: The logloss of the train dataset is %.3f' %loss_train_rf3)\n",
    "print('Model3: The logloss of the validation(test) dataset is %.3f' %loss_val_rf3)"
   ]
  },
  {
   "cell_type": "markdown",
   "metadata": {},
   "source": [
    "As for above models, I tuned `n_estimators`, `max_depth` and `max_features` hyperparameters in RandomForestClassifier. Improving `n_estimators` from 10 to 20 could decrease logloss of the train dataset and validation set, while when keeping the `n_estimators` the same, improving `max_depth` and `max_features` from 10 to 15 doesn't have much effect on the improvement of model result."
   ]
  },
  {
   "cell_type": "markdown",
   "metadata": {},
   "source": [
    "### Feature importance"
   ]
  },
  {
   "cell_type": "markdown",
   "metadata": {},
   "source": [
    "Based on above, model 3 fits the data best.\n",
    "\n",
    "Let's have a look at the feature importance base on it."
   ]
  },
  {
   "cell_type": "code",
   "execution_count": 63,
   "metadata": {
    "ExecuteTime": {
     "end_time": "2019-02-06T03:31:16.024739Z",
     "start_time": "2019-02-06T03:31:15.350572Z"
    }
   },
   "outputs": [
    {
     "name": "stdout",
     "output_type": "stream",
     "text": [
      "Feature importance of Random Forest Model\n"
     ]
    },
    {
     "data": {
      "image/png": "[encoded data removed]",
      "text/plain": [
       "<Figure size 360x360 with 1 Axes>"
      ]
     },
     "metadata": {},
     "output_type": "display_data"
    }
   ],
   "source": [
    "%matplotlib inline\n",
    "import matplotlib.pyplot as plt\n",
    "print('Feature importance of Random Forest Model')\n",
    "plt.style.use('ggplot')\n",
    "fig = plt.figure(figsize=(5, 5))\n",
    "feat_importances = pd.Series(rf3.feature_importances_, index=X_train.columns)\n",
    "feat_importances.nlargest(5).plot(kind='barh', alpha=0.7)\n",
    "fig.savefig('rf_feature.png')"
   ]
  },
  {
   "cell_type": "markdown",
   "metadata": {},
   "source": [
    "### Predict the test data"
   ]
  },
  {
   "cell_type": "markdown",
   "metadata": {},
   "source": [
    "predict the test dataset"
   ]
  },
  {
   "cell_type": "code",
   "execution_count": 64,
   "metadata": {
    "ExecuteTime": {
     "end_time": "2019-02-06T03:31:23.480447Z",
     "start_time": "2019-02-06T03:31:16.027424Z"
    }
   },
   "outputs": [
    {
     "name": "stderr",
     "output_type": "stream",
     "text": [
      "[Parallel(n_jobs=4)]: Done  20 out of  20 | elapsed:    5.8s finished\n"
     ]
    }
   ],
   "source": [
    "y_pred = rf3.predict(test_new)"
   ]
  },
  {
   "cell_type": "code",
   "execution_count": null,
   "metadata": {},
   "outputs": [],
   "source": []
  }
 ],
 "metadata": {
  "kernelspec": {
   "display_name": "Python 3",
   "language": "python",
   "name": "python3"
  },
  "language_info": {
   "codemirror_mode": {
    "name": "ipython",
    "version": 3
   },
   "file_extension": ".py",
   "mimetype": "text/x-python",
   "name": "python",
   "nbconvert_exporter": "python",
   "pygments_lexer": "ipython3",
   "version": "3.6.6"
  },
  "toc": {
   "nav_menu": {},
   "number_sections": true,
   "sideBar": true,
   "skip_h1_title": false,
   "toc_cell": false,
   "toc_position": {},
   "toc_section_display": "block",
   "toc_window_display": false
  }
 },
 "nbformat": 4,
 "nbformat_minor": 2
}
